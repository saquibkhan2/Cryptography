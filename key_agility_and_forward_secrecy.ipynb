{
  "nbformat": 4,
  "nbformat_minor": 0,
  "metadata": {
    "colab": {
      "provenance": []
    },
    "kernelspec": {
      "name": "python3",
      "display_name": "Python 3"
    },
    "language_info": {
      "name": "python"
    }
  },
  "cells": [
    {
      "cell_type": "code",
      "source": [
        "from cryptography.hazmat.primitives.asymmetric import rsa\n",
        "from cryptography.hazmat.primitives import serialization\n",
        "\n",
        "# Generate Alice's keys\n",
        "private_key_alice = rsa.generate_private_key(\n",
        "    public_exponent=65537,\n",
        "    key_size=2048\n",
        ")\n",
        "public_key_alice = private_key_alice.public_key()\n",
        "\n",
        "# Generate Bob's keys\n",
        "private_key_bob = rsa.generate_private_key(\n",
        "    public_exponent=65537,\n",
        "    key_size=2048\n",
        ")\n",
        "public_key_bob = private_key_bob.public_key()"
      ],
      "metadata": {
        "id": "TjaJB89dUw-X"
      },
      "execution_count": null,
      "outputs": []
    },
    {
      "cell_type": "code",
      "source": [
        "# Use a key derivation function (KDF) to derive a symmetric key from the shared key for Alice\n",
        "kdf_alice = HKDF(\n",
        "    algorithm=hashes.SHA256(),\n",
        "    length=32,\n",
        "    salt=None,\n",
        "    info=b'session key for Alice',\n",
        ")\n",
        "session_key_alice = kdf_alice.derive(shared_key_alice)\n",
        "\n",
        "# Use a new KDF object to derive a symmetric key from the shared key for Bob\n",
        "kdf_bob = HKDF(\n",
        "    algorithm=hashes.SHA256(),\n",
        "    length=32,\n",
        "    salt=None,\n",
        "    info=b'session key for Bob',\n",
        ")\n",
        "session_key_bob = kdf_bob.derive(shared_key_bob)\n"
      ],
      "metadata": {
        "id": "HVPrIZyJU-1T"
      },
      "execution_count": null,
      "outputs": []
    },
    {
      "cell_type": "code",
      "source": [
        "import base64\n",
        "from cryptography.hazmat.primitives import serialization\n",
        "from cryptography.hazmat.primitives.asymmetric import ec\n",
        "from cryptography.hazmat.primitives import hashes\n",
        "from cryptography.hazmat.primitives.kdf.hkdf import HKDF\n",
        "\n",
        "# Generate Alice's private and public keys\n",
        "private_key_alice = ec.generate_private_key(ec.SECP384R1())\n",
        "public_key_alice = private_key_alice.public_key()\n",
        "\n",
        "# Generate Bob's private and public keys\n",
        "private_key_bob = ec.generate_private_key(ec.SECP384R1())\n",
        "public_key_bob = private_key_bob.public_key()\n",
        "\n",
        "# Perform key exchange\n",
        "shared_key_alice = private_key_alice.exchange(ec.ECDH(), public_key_bob)\n",
        "shared_key_bob = private_key_bob.exchange(ec.ECDH(), public_key_alice)\n",
        "\n",
        "# Use a key derivation function (KDF) to derive a symmetric key from the shared key for Alice\n",
        "kdf_alice = HKDF(\n",
        "    algorithm=hashes.SHA256(),\n",
        "    length=32,\n",
        "    salt=None,\n",
        "    info=b'session key for Alice',\n",
        ")\n",
        "session_key_alice = kdf_alice.derive(shared_key_alice)\n",
        "\n",
        "# Use a new KDF object to derive a symmetric key from the shared key for Bob\n",
        "kdf_bob = HKDF(\n",
        "    algorithm=hashes.SHA256(),\n",
        "    length=32,\n",
        "    salt=None,\n",
        "    info=b'session key for Bob',\n",
        ")\n",
        "session_key_bob = kdf_bob.derive(shared_key_bob)\n",
        "\n",
        "# Print the session keys (for demonstration purposes)\n",
        "print(\"Harsh's session key:\", base64.urlsafe_b64encode(session_key_alice).decode())\n",
        "print(\"Saquib's session key:\", base64.urlsafe_b64encode(session_key_bob).decode())\n"
      ],
      "metadata": {
        "colab": {
          "base_uri": "https://localhost:8080/"
        },
        "id": "7qMkftO7VSQg",
        "outputId": "bec6edb5-d50a-4fbe-9687-37a7da6a981c"
      },
      "execution_count": null,
      "outputs": [
        {
          "output_type": "stream",
          "name": "stdout",
          "text": [
            "Harsh's session key: DlAZAvO6PAfCRp4tN1EvmfQGYwve1wGVc76yTEUKdEc=\n",
            "Saquib's session key: j3hHuLpGHN2ySuU9IvxQASuX-ZNwRQCBVXF51FroClg=\n"
          ]
        }
      ]
    }
  ]
}